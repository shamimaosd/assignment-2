{
  "nbformat": 4,
  "nbformat_minor": 0,
  "metadata": {
    "colab": {
      "provenance": [],
      "authorship_tag": "ABX9TyNCFp99HiQCs0nyUvDT2yxS",
      "include_colab_link": true
    },
    "kernelspec": {
      "name": "python3",
      "display_name": "Python 3"
    },
    "language_info": {
      "name": "python"
    }
  },
  "cells": [
    {
      "cell_type": "markdown",
      "metadata": {
        "id": "view-in-github",
        "colab_type": "text"
      },
      "source": [
        "<a href=\"https://colab.research.google.com/github/shamimaosd/assignment-2/blob/main/Untitled0.ipynb\" target=\"_parent\"><img src=\"https://colab.research.google.com/assets/colab-badge.svg\" alt=\"Open In Colab\"/></a>"
      ]
    },
    {
      "cell_type": "code",
      "execution_count": null,
      "metadata": {
        "colab": {
          "base_uri": "https://localhost:8080/"
        },
        "id": "wDUCYajqTd5P",
        "outputId": "56eeb27f-51a4-407f-e420-79f27de750f2"
      },
      "outputs": [
        {
          "output_type": "stream",
          "name": "stdout",
          "text": [
            "Before swap: x = 5 y = 10\n",
            "After swap: x = 10 y = 5\n"
          ]
        }
      ],
      "source": [
        "# Function to swap two variables\n",
        "def swap(a, b):\n",
        "    a, b = b, a\n",
        "    return a, b\n",
        "\n",
        "# Example usage\n",
        "x = 5\n",
        "y = 10\n",
        "print(\"Before swap: x =\", x, \"y =\", y)\n",
        "x, y = swap(x, y)\n",
        "print(\"After swap: x =\", x, \"y =\", y)"
      ]
    },
    {
      "cell_type": "code",
      "source": [
        "def calculate_area(length, width):\n",
        "    return length * width\n",
        "\n",
        "# Example usage\n",
        "length = float(input(\"Enter the length of the rectangle: \"))\n",
        "width = float(input(\"Enter the width of the rectangle: \"))\n",
        "\n",
        "area = calculate_area(length, width)\n",
        "print(\"The area of the rectangle is:\", area)"
      ],
      "metadata": {
        "colab": {
          "base_uri": "https://localhost:8080/"
        },
        "id": "cS3mixlXTgm8",
        "outputId": "3cbb8bf6-6b40-45c8-e753-31abe75dd5d5"
      },
      "execution_count": null,
      "outputs": [
        {
          "output_type": "stream",
          "name": "stdout",
          "text": [
            "Enter the length of the rectangle: 5\n",
            "Enter the width of the rectangle: 6\n",
            "The area of the rectangle is: 30.0\n"
          ]
        }
      ]
    },
    {
      "cell_type": "code",
      "source": [
        "# Function to convert Fahrenheit to Celsius\n",
        "def fahrenheit_to_celsius(fahrenheit):\n",
        "    return (fahrenheit - 32) * 5 / 9\n",
        "\n",
        "# Example usage\n",
        "fahrenheit = float(input(\"Enter temperature in Fahrenheit: \"))\n",
        "celsius = fahrenheit_to_celsius(fahrenheit)\n",
        "print(f\"{fahrenheit} Fahrenheit is equal to {celsius:.2f} Celsius\")"
      ],
      "metadata": {
        "colab": {
          "base_uri": "https://localhost:8080/"
        },
        "id": "ciqkrHE3U6Uj",
        "outputId": "91d55a30-156e-4b91-abd8-9bae0f0512d1"
      },
      "execution_count": null,
      "outputs": [
        {
          "output_type": "stream",
          "name": "stdout",
          "text": [
            "Enter temperature in Fahrenheit: 32\n",
            "32.0 Fahrenheit is equal to 0.00 Celsius\n"
          ]
        }
      ]
    },
    {
      "cell_type": "code",
      "source": [
        "import math\n",
        "\n",
        "# Function to calculate the volume of a sphere\n",
        "def calculate_volume(radius):\n",
        "    return (4/3) * math.pi * radius**3\n",
        "\n",
        "# Example usage\n",
        "radius = float(input(\"Enter the radius of the sphere: \"))\n",
        "\n",
        "volume = calculate_volume(radius)\n",
        "print(f\"The volume of the sphere with radius {radius} is: {volume:.2f}\")"
      ],
      "metadata": {
        "colab": {
          "base_uri": "https://localhost:8080/"
        },
        "id": "LSficnCGYY65",
        "outputId": "91606e17-a3fd-47e1-e366-c0bf3c1f6a61"
      },
      "execution_count": null,
      "outputs": [
        {
          "output_type": "stream",
          "name": "stdout",
          "text": [
            "Enter the radius of the sphere: 5\n",
            "The volume of the sphere with radius 5.0 is: 523.60\n"
          ]
        }
      ]
    },
    {
      "cell_type": "code",
      "source": [
        "# Function to calculate the average of three numbers\n",
        "def calculate_average(num1, num2, num3):\n",
        "    return (num1 + num2 + num3) / 3\n",
        "\n",
        "# Example usage\n",
        "num1 = float(input(\"Enter the first number: \"))\n",
        "num2 = float(input(\"Enter the second number: \"))\n",
        "num3 = float(input(\"Enter the third number: \"))\n",
        "\n",
        "average = calculate_average(num1, num2, num3)\n",
        "print(f\"The average of {num1}, {num2}, and {num3} is: {average:.2f}\")"
      ],
      "metadata": {
        "colab": {
          "base_uri": "https://localhost:8080/"
        },
        "id": "I-RHz-dnZP7K",
        "outputId": "ac7d786a-1aa2-4b72-a66a-a827ffed56d1"
      },
      "execution_count": null,
      "outputs": [
        {
          "output_type": "stream",
          "name": "stdout",
          "text": [
            "Enter the first number: 1\n",
            "Enter the second number: 2\n",
            "Enter the third number: 3\n",
            "The average of 1.0, 2.0, and 3.0 is: 2.00\n"
          ]
        }
      ]
    },
    {
      "cell_type": "code",
      "source": [
        "# Function to determine if a number is even or odd\n",
        "def is_even_or_odd(number):\n",
        "    if number % 2 == 0:\n",
        "        return \"even\"\n",
        "    else:\n",
        "        return \"odd\"\n",
        "\n",
        "# Example usage\n",
        "number = int(input(\"Enter a number: \"))\n",
        "\n",
        "result = is_even_or_odd(number)\n",
        "print(f\"The number {number} is {result}.\")\n"
      ],
      "metadata": {
        "colab": {
          "base_uri": "https://localhost:8080/"
        },
        "id": "c6c6Y3J0ZwEA",
        "outputId": "6755dac3-7819-4526-ae01-7b8d4b66c4fb"
      },
      "execution_count": null,
      "outputs": [
        {
          "output_type": "stream",
          "name": "stdout",
          "text": [
            "Enter a number: 4\n",
            "The number 4 is even.\n"
          ]
        }
      ]
    },
    {
      "cell_type": "code",
      "source": [
        "# Function to find the maximum of three numbers\n",
        "def find_maximum(num1, num2, num3):\n",
        "    return max(num1, num2, num3)\n",
        "\n",
        "# Example usage\n",
        "num1 = float(input(\"Enter the first number: \"))\n",
        "num2 = float(input(\"Enter the second number: \"))\n",
        "num3 = float(input(\"Enter the third number: \"))\n",
        "\n",
        "maximum = find_maximum(num1, num2, num3)\n",
        "print(f\"The maximum of {num1}, {num2}, and {num3} is: {maximum}\")"
      ],
      "metadata": {
        "colab": {
          "base_uri": "https://localhost:8080/"
        },
        "id": "s2L0wNpFaoFp",
        "outputId": "8779acf3-5ece-4af7-b7c3-4a036443bbc3"
      },
      "execution_count": null,
      "outputs": [
        {
          "output_type": "stream",
          "name": "stdout",
          "text": [
            "Enter the first number: 5\n",
            "Enter the second number: 10\n",
            "Enter the third number: 15\n",
            "The maximum of 5.0, 10.0, and 15.0 is: 15.0\n"
          ]
        }
      ]
    },
    {
      "cell_type": "code",
      "source": [
        "# Function to determine if a year is a leap year\n",
        "def is_leap_year(year):\n",
        "    if (year % 4 == 0 and year % 100 != 0) or (year % 400 == 0):\n",
        "        return True\n",
        "    else:\n",
        "        return False\n",
        "\n",
        "# Example usage\n",
        "year = int(input(\"Enter a year: \"))\n",
        "\n",
        "if is_leap_year(year):\n",
        "    print(f\"The year {year} is a leap year.\")\n",
        "else:\n",
        "    print(f\"The year {year} is not a leap year.\")"
      ],
      "metadata": {
        "colab": {
          "base_uri": "https://localhost:8080/"
        },
        "id": "xu8snUTjbOtJ",
        "outputId": "a80239ec-8db0-42e3-da20-369979fa00c1"
      },
      "execution_count": null,
      "outputs": [
        {
          "output_type": "stream",
          "name": "stdout",
          "text": [
            "Enter a year: 2024\n",
            "The year 2024 is a leap year.\n"
          ]
        }
      ]
    },
    {
      "cell_type": "code",
      "source": [
        "# Function to determine if a number is positive, negative, or zero\n",
        "def determine_sign(number):\n",
        "    if number > 0:\n",
        "        return \"positive\"\n",
        "    elif number < 0:\n",
        "        return \"negative\"\n",
        "    else:\n",
        "        return \"zero\"\n",
        "\n",
        "# Example usage\n",
        "number = float(input(\"Enter a number: \"))\n",
        "\n",
        "result = determine_sign(number)\n",
        "print(f\"The number {number} is {result}.\")"
      ],
      "metadata": {
        "colab": {
          "base_uri": "https://localhost:8080/"
        },
        "id": "_fGgqCGObxAe",
        "outputId": "f904030a-e21d-4b69-c1af-f7e98c03cc13"
      },
      "execution_count": null,
      "outputs": [
        {
          "output_type": "stream",
          "name": "stdout",
          "text": [
            "Enter a number: 2\n",
            "The number 2.0 is positive.\n"
          ]
        }
      ]
    },
    {
      "cell_type": "code",
      "source": [
        "# Function to determine the grade based on the percentage\n",
        "def calculate_grade(percentage):\n",
        "    if percentage >= 90:\n",
        "        return \"A\"\n",
        "    elif percentage >= 80:\n",
        "        return \"B\"\n",
        "    elif percentage >= 70:\n",
        "        return \"C\"\n",
        "    elif percentage >= 60:\n",
        "        return \"D\"\n",
        "    else:\n",
        "        return \"F\"\n",
        "\n",
        "# Example usage\n",
        "percentage = float(input(\"Enter the percentage: \"))\n",
        "\n",
        "grade = calculate_grade(percentage)\n",
        "print(f\"The grade for a percentage of {percentage} is: {grade}\")"
      ],
      "metadata": {
        "colab": {
          "base_uri": "https://localhost:8080/"
        },
        "id": "ITZResMgcIFo",
        "outputId": "b8ac2f62-eef1-4d8f-e25b-df582789e50a"
      },
      "execution_count": null,
      "outputs": [
        {
          "output_type": "stream",
          "name": "stdout",
          "text": [
            "Enter the percentage: 70\n",
            "The grade for a percentage of 70.0 is: C\n"
          ]
        }
      ]
    },
    {
      "cell_type": "code",
      "source": [
        "# Function to print the first n natural numbers\n",
        "def print_natural_numbers(n):\n",
        "    for i in range(1, n + 1):\n",
        "        print(i, end=' ')\n",
        "    print()  # for a newline after the loop\n",
        "\n",
        "# Example usage\n",
        "n = int(input(\"Enter the value of n: \"))\n",
        "\n",
        "print(f\"The first {n} natural numbers are:\")\n",
        "print_natural_numbers(n)"
      ],
      "metadata": {
        "colab": {
          "base_uri": "https://localhost:8080/"
        },
        "id": "mv_rx-r7c7sX",
        "outputId": "3ef2f8a3-bce1-432e-ccd2-68b48a021172"
      },
      "execution_count": null,
      "outputs": [
        {
          "output_type": "stream",
          "name": "stdout",
          "text": [
            "Enter the value of n: 5\n",
            "The first 5 natural numbers are:\n",
            "1 2 3 4 5 \n"
          ]
        }
      ]
    },
    {
      "cell_type": "code",
      "source": [
        "# Function to calculate the factorial of a number\n",
        "def factorial(n):\n",
        "    if n == 0 or n == 1:\n",
        "        return 1\n",
        "    else:\n",
        "        result = 1\n",
        "        for i in range(2, n + 1):\n",
        "            result *= i\n",
        "        return result\n",
        "\n",
        "# Example usage\n",
        "number = int(input(\"Enter a number: \"))\n",
        "\n",
        "if number < 0:\n",
        "    print(\"Factorial is not defined for negative numbers.\")\n",
        "else:\n",
        "    fact = factorial(number)\n",
        "    print(f\"The factorial of {number} is: {fact}\")"
      ],
      "metadata": {
        "colab": {
          "base_uri": "https://localhost:8080/"
        },
        "id": "sfbMB3GSdglA",
        "outputId": "df61ae90-67fd-4201-cb7b-2318164a3e4d"
      },
      "execution_count": null,
      "outputs": [
        {
          "output_type": "stream",
          "name": "stdout",
          "text": [
            "Enter a number: 4\n",
            "The factorial of 4 is: 24\n"
          ]
        }
      ]
    },
    {
      "cell_type": "code",
      "source": [
        "# Function to generate a Fibonacci sequence of length n\n",
        "def generate_fibonacci(n):\n",
        "    if n <= 0:\n",
        "        return []\n",
        "    elif n == 1:\n",
        "        return [0]\n",
        "    elif n == 2:\n",
        "        return [0, 1]\n",
        "\n",
        "    sequence = [0, 1]\n",
        "    for i in range(2, n):\n",
        "        next_number = sequence[-1] + sequence[-2]\n",
        "        sequence.append(next_number)\n",
        "    return sequence\n",
        "\n",
        "# Example usage\n",
        "n = int(input(\"Enter the length of the Fibonacci sequence: \"))\n",
        "\n",
        "if n < 0:\n",
        "    print(\"The length of the Fibonacci sequence must be a non-negative integer.\")\n",
        "else:\n",
        "    fibonacci_sequence = generate_fibonacci(n)\n",
        "    print(f\"The Fibonacci sequence of length {n} is: {fibonacci_sequence}\")"
      ],
      "metadata": {
        "colab": {
          "base_uri": "https://localhost:8080/"
        },
        "id": "4P4hXf2peMw3",
        "outputId": "bf736497-3d85-4df0-d234-d0ac0f9a830c"
      },
      "execution_count": null,
      "outputs": [
        {
          "output_type": "stream",
          "name": "stdout",
          "text": [
            "Enter the length of the Fibonacci sequence: 5\n",
            "The Fibonacci sequence of length 5 is: [0, 1, 1, 2, 3]\n"
          ]
        }
      ]
    },
    {
      "cell_type": "code",
      "source": [
        "# Function to check if a number is prime\n",
        "def is_prime(number):\n",
        "    if number <= 1:\n",
        "        return False\n",
        "    elif number == 2:\n",
        "        return True\n",
        "    elif number % 2 == 0:\n",
        "        return False\n",
        "    else:\n",
        "        # Check divisibility starting from 3 up to the square root of the number\n",
        "        for i in range(3, int(number**0.5) + 1, 2):\n",
        "            if number % i == 0:\n",
        "                return False\n",
        "        return True\n",
        "\n",
        "# Example usage\n",
        "number = int(input(\"Enter a number: \"))\n",
        "\n",
        "if is_prime(number):\n",
        "    print(f\"{number} is a prime number.\")\n",
        "else:\n",
        "    print(f\"{number} is not a prime number.\")\n"
      ],
      "metadata": {
        "colab": {
          "base_uri": "https://localhost:8080/"
        },
        "id": "S-xxe6-mfDwc",
        "outputId": "975cc152-9a38-4f18-870a-0e205b748820"
      },
      "execution_count": null,
      "outputs": [
        {
          "output_type": "stream",
          "name": "stdout",
          "text": [
            "Enter a number: 2\n",
            "2 is a prime number.\n"
          ]
        }
      ]
    },
    {
      "cell_type": "code",
      "source": [
        "# Function to print the multiplication table of a given number\n",
        "def print_multiplication_table(number):\n",
        "    print(f\"Multiplication table of {number}:\")\n",
        "    for i in range(1, 11):\n",
        "        print(f\"{number} * {i} = {number * i}\")\n",
        "\n",
        "# Example usage\n",
        "number = int(input(\"Enter a number: \"))\n",
        "\n",
        "print_multiplication_table(number)"
      ],
      "metadata": {
        "colab": {
          "base_uri": "https://localhost:8080/"
        },
        "id": "TVBL6-HGgxEN",
        "outputId": "83674513-b25f-404b-a245-46bd374ac058"
      },
      "execution_count": null,
      "outputs": [
        {
          "output_type": "stream",
          "name": "stdout",
          "text": [
            "Enter a number: 2\n",
            "Multiplication table of 2:\n",
            "2 * 1 = 2\n",
            "2 * 2 = 4\n",
            "2 * 3 = 6\n",
            "2 * 4 = 8\n",
            "2 * 5 = 10\n",
            "2 * 6 = 12\n",
            "2 * 7 = 14\n",
            "2 * 8 = 16\n",
            "2 * 9 = 18\n",
            "2 * 10 = 20\n"
          ]
        }
      ]
    },
    {
      "cell_type": "code",
      "source": [
        "# Function to find the sum of all even numbers between 1 and n\n",
        "def sum_of_evens(n):\n",
        "    sum_even = 0\n",
        "    for i in range(2, n + 1, 2):\n",
        "        sum_even += i\n",
        "    return sum_even\n",
        "\n",
        "# Example usage\n",
        "n = int(input(\"Enter a number: \"))\n",
        "\n",
        "if n < 2:\n",
        "    print(\"Please enter a number greater than or equal to 2.\")\n",
        "else:\n",
        "    result = sum_of_evens(n)\n",
        "    print(f\"The sum of all even numbers between 1 and {n} is: {result}\")\n"
      ],
      "metadata": {
        "colab": {
          "base_uri": "https://localhost:8080/"
        },
        "id": "BX5VwyZyhfAf",
        "outputId": "63eb1a53-7d0c-45be-c1d5-81a4d0db8e2d"
      },
      "execution_count": null,
      "outputs": [
        {
          "output_type": "stream",
          "name": "stdout",
          "text": [
            "Enter a number: 1\n",
            "Please enter a number greater than or equal to 2.\n"
          ]
        }
      ]
    },
    {
      "cell_type": "code",
      "source": [
        "# Function to reverse a given number\n",
        "def reverse_number(number):\n",
        "    reversed_num = 0\n",
        "    while number != 0:\n",
        "        digit = number % 10\n",
        "        reversed_num = (reversed_num * 10) + digit\n",
        "        number //= 10\n",
        "    return reversed_num\n",
        "\n",
        "# Example usage\n",
        "number = int(input(\"Enter a number: \"))\n",
        "\n",
        "reversed_number = reverse_number(number)\n",
        "print(f\"The reverse of {number} is: {reversed_number}\")"
      ],
      "metadata": {
        "colab": {
          "base_uri": "https://localhost:8080/"
        },
        "id": "aNU_08h4htzW",
        "outputId": "3ae0033c-03b2-4892-bfc9-b3b1fd8e6cfb"
      },
      "execution_count": null,
      "outputs": [
        {
          "output_type": "stream",
          "name": "stdout",
          "text": [
            "Enter a number: 5\n",
            "The reverse of 5 is: 5\n"
          ]
        }
      ]
    },
    {
      "cell_type": "code",
      "source": [
        "# Function to check if a string is a palindrome\n",
        "def is_palindrome(s):\n",
        "    # Remove spaces and convert to lowercase for case-insensitive comparison\n",
        "    s = s.replace(\" \", \"\").lower()\n",
        "    # Check if the string is equal to its reverse\n",
        "    return s == s[::-1]\n",
        "\n",
        "# Example usage\n",
        "string = input(\"Enter a string: \")\n",
        "\n",
        "if is_palindrome(string):\n",
        "    print(f\"{string} is a palindrome.\")\n",
        "else:\n",
        "    print(f\"{string} is not a palindrome.\")"
      ],
      "metadata": {
        "colab": {
          "base_uri": "https://localhost:8080/"
        },
        "id": "rZgkWijmiXOU",
        "outputId": "07693d3f-dbe5-4524-86f6-fbc44a5de3fe"
      },
      "execution_count": null,
      "outputs": [
        {
          "output_type": "stream",
          "name": "stdout",
          "text": [
            "Enter a string: 2\n",
            "2 is a palindrome.\n"
          ]
        }
      ]
    },
    {
      "cell_type": "code",
      "source": [
        "import random\n",
        "\n",
        "# Generate a random number between 1 and 100\n",
        "secret_number = random.randint(1, 100)\n",
        "\n",
        "# Function to check the user's guess\n",
        "def check_guess(guess, secret):\n",
        "    if guess < secret:\n",
        "        return \"Too low\"\n",
        "    elif guess > secret:\n",
        "        return \"Too high\"\n",
        "    else:\n",
        "        return \"Correct!\"\n",
        "\n",
        "# Main game loop\n",
        "while True:\n",
        "    # Prompt the user to guess the number\n",
        "    guess = int(input(\"Guess the number (between 1 and 100): \"))\n",
        "\n",
        "    # Check if the guess is correct\n",
        "    result = check_guess(guess, secret_number)\n",
        "\n",
        "    # Print the result\n",
        "    print(result)\n",
        "\n",
        "    # Break the loop if the guess is correct\n",
        "    if result == \"Correct!\":\n",
        "        break"
      ],
      "metadata": {
        "colab": {
          "base_uri": "https://localhost:8080/"
        },
        "id": "uHr8rPbcixCl",
        "outputId": "cec01a90-90aa-47d8-84f4-6fcc3a72235f"
      },
      "execution_count": null,
      "outputs": [
        {
          "output_type": "stream",
          "name": "stdout",
          "text": [
            "Guess the number (between 1 and 100): 3\n",
            "Too low\n",
            "Guess the number (between 1 and 100): 5\n",
            "Too low\n",
            "Guess the number (between 1 and 100): 10\n",
            "Too low\n",
            "Guess the number (between 1 and 100): 99\n",
            "Too high\n",
            "Guess the number (between 1 and 100): 80\n",
            "Too high\n",
            "Guess the number (between 1 and 100): 20\n",
            "Too low\n",
            "Guess the number (between 1 and 100): 50\n",
            "Too low\n",
            "Guess the number (between 1 and 100): 90\n",
            "Too high\n",
            "Guess the number (between 1 and 100): 70\n",
            "Too high\n",
            "Guess the number (between 1 and 100): 60\n",
            "Too low\n",
            "Guess the number (between 1 and 100): 20\n",
            "Too low\n",
            "Guess the number (between 1 and 100): 30\n",
            "Too low\n",
            "Guess the number (between 1 and 100): 40\n",
            "Too low\n",
            "Guess the number (between 1 and 100): 61\n",
            "Too low\n",
            "Guess the number (between 1 and 100): 65\n",
            "Too low\n",
            "Guess the number (between 1 and 100): 66\n",
            "Too low\n",
            "Guess the number (between 1 and 100): 67\n",
            "Too low\n",
            "Guess the number (between 1 and 100): 68\n",
            "Correct!\n"
          ]
        }
      ]
    },
    {
      "cell_type": "code",
      "source": [
        "# Function to find the greatest common divisor (GCD) of two numbers\n",
        "def gcd(a, b):\n",
        "    while b != 0:\n",
        "        a, b = b, a % b\n",
        "    return a\n",
        "\n",
        "# Example usage\n",
        "num1 = int(input(\"Enter the first number: \"))\n",
        "num2 = int(input(\"Enter the second number: \"))\n",
        "\n",
        "result = gcd(num1, num2)\n",
        "print(f\"The GCD of {num1} and {num2} is: {result}\")"
      ],
      "metadata": {
        "colab": {
          "base_uri": "https://localhost:8080/"
        },
        "id": "uGI8qVMtkZfc",
        "outputId": "efeac0a8-26a4-445c-e2fa-c2556985ddd3"
      },
      "execution_count": null,
      "outputs": [
        {
          "output_type": "stream",
          "name": "stdout",
          "text": [
            "Enter the first number: 5\n",
            "Enter the second number: 6\n",
            "The GCD of 5 and 6 is: 1\n"
          ]
        }
      ]
    }
  ]
}