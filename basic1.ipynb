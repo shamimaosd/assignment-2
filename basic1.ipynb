{
 "cells": [
  {
   "cell_type": "code",
   "execution_count": 4,
   "metadata": {},
   "outputs": [
    {
     "name": "stdout",
     "output_type": "stream",
     "text": [
      "Before swap: x = 5 y = 10\n",
      "After swap: x = 10 y = 5\n"
     ]
    }
   ],
   "source": [
    "# Function to swap two variables\n",
    "def swap(a, b):\n",
    "    a, b = b, a\n",
    "    return a, b\n",
    "\n",
    "# Example usage\n",
    "x = 5\n",
    "y = 10\n",
    "print(\"Before swap: x =\", x, \"y =\", y)\n",
    "x, y = swap(x, y)\n",
    "print(\"After swap: x =\", x, \"y =\", y)"
   ]
  },
  {
   "cell_type": "code",
   "execution_count": 3,
   "metadata": {},
   "outputs": [
    {
     "name": "stdout",
     "output_type": "stream",
     "text": [
      "The area of the rectangle is: 30.0\n"
     ]
    }
   ],
   "source": [
    "def calculate_area(length, width):\n",
    "    return length * width\n",
    "\n",
    "# Example usage\n",
    "length = float(input(\"Enter the length of the rectangle: \"))\n",
    "width = float(input(\"Enter the width of the rectangle: \"))\n",
    "\n",
    "area = calculate_area(length, width)\n",
    "print(\"The area of the rectangle is:\", area)"
   ]
  },
  {
   "cell_type": "code",
   "execution_count": 5,
   "metadata": {},
   "outputs": [
    {
     "name": "stdout",
     "output_type": "stream",
     "text": [
      "32.0 Fahrenheit is equal to 0.00 Celsius\n"
     ]
    }
   ],
   "source": [
    "# Function to convert Fahrenheit to Celsius\n",
    "def fahrenheit_to_celsius(fahrenheit):\n",
    "    return (fahrenheit - 32) * 5 / 9\n",
    "\n",
    "# Example usage\n",
    "fahrenheit = float(input(\"Enter temperature in Fahrenheit: \"))\n",
    "celsius = fahrenheit_to_celsius(fahrenheit)\n",
    "print(f\"{fahrenheit} Fahrenheit is equal to {celsius:.2f} Celsius\")"
   ]
  },
  {
   "cell_type": "code",
   "execution_count": 6,
   "metadata": {},
   "outputs": [
    {
     "name": "stdout",
     "output_type": "stream",
     "text": [
      "The volume of the sphere with radius 5.0 is: 523.60\n"
     ]
    }
   ],
   "source": [
    "import math\n",
    "\n",
    "# Function to calculate the volume of a sphere\n",
    "def calculate_volume(radius):\n",
    "    return (4/3) * math.pi * radius**3\n",
    "\n",
    "# Example usage\n",
    "radius = float(input(\"Enter the radius of the sphere: \"))\n",
    "\n",
    "volume = calculate_volume(radius)\n",
    "print(f\"The volume of the sphere with radius {radius} is: {volume:.2f}\")"
   ]
  },
  {
   "cell_type": "code",
   "execution_count": 7,
   "metadata": {},
   "outputs": [
    {
     "name": "stdout",
     "output_type": "stream",
     "text": [
      "The average of 1.0, 2.0, and 3.0 is: 2.00\n"
     ]
    }
   ],
   "source": [
    "# Function to calculate the average of three numbers\n",
    "def calculate_average(num1, num2, num3):\n",
    "    return (num1 + num2 + num3) / 3\n",
    "\n",
    "# Example usage\n",
    "num1 = float(input(\"Enter the first number: \"))\n",
    "num2 = float(input(\"Enter the second number: \"))\n",
    "num3 = float(input(\"Enter the third number: \"))\n",
    "\n",
    "average = calculate_average(num1, num2, num3)\n",
    "print(f\"The average of {num1}, {num2}, and {num3} is: {average:.2f}\")"
   ]
  },
  {
   "cell_type": "code",
   "execution_count": 8,
   "metadata": {},
   "outputs": [
    {
     "name": "stdout",
     "output_type": "stream",
     "text": [
      "The number 5 is odd.\n"
     ]
    }
   ],
   "source": [
    "# Function to determine if a number is even or odd\n",
    "def is_even_or_odd(number):\n",
    "    if number % 2 == 0:\n",
    "        return \"even\"\n",
    "    else:\n",
    "        return \"odd\"\n",
    "\n",
    "# Example usage\n",
    "number = int(input(\"Enter a number: \"))\n",
    "\n",
    "result = is_even_or_odd(number)\n",
    "print(f\"The number {number} is {result}.\")\n"
   ]
  },
  {
   "cell_type": "code",
   "execution_count": 9,
   "metadata": {},
   "outputs": [
    {
     "name": "stdout",
     "output_type": "stream",
     "text": [
      "The maximum of 5.0, 10.0, and 15.0 is: 15.0\n"
     ]
    }
   ],
   "source": [
    "# Function to find the maximum of three numbers\n",
    "def find_maximum(num1, num2, num3):\n",
    "    return max(num1, num2, num3)\n",
    "\n",
    "# Example usage\n",
    "num1 = float(input(\"Enter the first number: \"))\n",
    "num2 = float(input(\"Enter the second number: \"))\n",
    "num3 = float(input(\"Enter the third number: \"))\n",
    "\n",
    "maximum = find_maximum(num1, num2, num3)\n",
    "print(f\"The maximum of {num1}, {num2}, and {num3} is: {maximum}\")"
   ]
  },
  {
   "cell_type": "code",
   "execution_count": 10,
   "metadata": {},
   "outputs": [
    {
     "name": "stdout",
     "output_type": "stream",
     "text": [
      "The year 2024 is a leap year.\n"
     ]
    }
   ],
   "source": [
    "# Function to determine if a year is a leap year\n",
    "def is_leap_year(year):\n",
    "    if (year % 4 == 0 and year % 100 != 0) or (year % 400 == 0):\n",
    "        return True\n",
    "    else:\n",
    "        return False\n",
    "\n",
    "# Example usage\n",
    "year = int(input(\"Enter a year: \"))\n",
    "\n",
    "if is_leap_year(year):\n",
    "    print(f\"The year {year} is a leap year.\")\n",
    "else:\n",
    "    print(f\"The year {year} is not a leap year.\")"
   ]
  },
  {
   "cell_type": "code",
   "execution_count": 11,
   "metadata": {},
   "outputs": [
    {
     "name": "stdout",
     "output_type": "stream",
     "text": [
      "The number 5.0 is positive.\n"
     ]
    }
   ],
   "source": [
    "# Function to determine if a number is positive, negative, or zero\n",
    "def determine_sign(number):\n",
    "    if number > 0:\n",
    "        return \"positive\"\n",
    "    elif number < 0:\n",
    "        return \"negative\"\n",
    "    else:\n",
    "        return \"zero\"\n",
    "\n",
    "# Example usage\n",
    "number = float(input(\"Enter a number: \"))\n",
    "\n",
    "result = determine_sign(number)\n",
    "print(f\"The number {number} is {result}.\")"
   ]
  },
  {
   "cell_type": "code",
   "execution_count": 12,
   "metadata": {},
   "outputs": [
    {
     "name": "stdout",
     "output_type": "stream",
     "text": [
      "The grade for a percentage of 80.0 is: B\n"
     ]
    }
   ],
   "source": [
    "# Function to determine the grade based on the percentage\n",
    "def calculate_grade(percentage):\n",
    "    if percentage >= 90:\n",
    "        return \"A\"\n",
    "    elif percentage >= 80:\n",
    "        return \"B\"\n",
    "    elif percentage >= 70:\n",
    "        return \"C\"\n",
    "    elif percentage >= 60:\n",
    "        return \"D\"\n",
    "    else:\n",
    "        return \"F\"\n",
    "\n",
    "# Example usage\n",
    "percentage = float(input(\"Enter the percentage: \"))\n",
    "\n",
    "grade = calculate_grade(percentage)\n",
    "print(f\"The grade for a percentage of {percentage} is: {grade}\")"
   ]
  },
  {
   "cell_type": "code",
   "execution_count": 13,
   "metadata": {},
   "outputs": [
    {
     "name": "stdout",
     "output_type": "stream",
     "text": [
      "The first 5 natural numbers are:\n",
      "1 2 3 4 5 \n"
     ]
    }
   ],
   "source": [
    "# Function to print the first n natural numbers\n",
    "def print_natural_numbers(n):\n",
    "    for i in range(1, n + 1):\n",
    "        print(i, end=' ')\n",
    "    print()  # for a newline after the loop\n",
    "\n",
    "# Example usage\n",
    "n = int(input(\"Enter the value of n: \"))\n",
    "\n",
    "print(f\"The first {n} natural numbers are:\")\n",
    "print_natural_numbers(n)"
   ]
  },
  {
   "cell_type": "code",
   "execution_count": 14,
   "metadata": {},
   "outputs": [
    {
     "name": "stdout",
     "output_type": "stream",
     "text": [
      "The factorial of 4 is: 24\n"
     ]
    }
   ],
   "source": [
    "# Function to calculate the factorial of a number\n",
    "def factorial(n):\n",
    "    if n == 0 or n == 1:\n",
    "        return 1\n",
    "    else:\n",
    "        result = 1\n",
    "        for i in range(2, n + 1):\n",
    "            result *= i\n",
    "        return result\n",
    "\n",
    "# Example usage\n",
    "number = int(input(\"Enter a number: \"))\n",
    "\n",
    "if number < 0:\n",
    "    print(\"Factorial is not defined for negative numbers.\")\n",
    "else:\n",
    "    fact = factorial(number)\n",
    "    print(f\"The factorial of {number} is: {fact}\")"
   ]
  },
  {
   "cell_type": "code",
   "execution_count": 15,
   "metadata": {},
   "outputs": [
    {
     "name": "stdout",
     "output_type": "stream",
     "text": [
      "The Fibonacci sequence of length 4 is: [0, 1, 1, 2]\n"
     ]
    }
   ],
   "source": [
    "# Function to generate a Fibonacci sequence of length n\n",
    "def generate_fibonacci(n):\n",
    "    if n <= 0:\n",
    "        return []\n",
    "    elif n == 1:\n",
    "        return [0]\n",
    "    elif n == 2:\n",
    "        return [0, 1]\n",
    "\n",
    "    sequence = [0, 1]\n",
    "    for i in range(2, n):\n",
    "        next_number = sequence[-1] + sequence[-2]\n",
    "        sequence.append(next_number)\n",
    "    return sequence\n",
    "\n",
    "# Example usage\n",
    "n = int(input(\"Enter the length of the Fibonacci sequence: \"))\n",
    "\n",
    "if n < 0:\n",
    "    print(\"The length of the Fibonacci sequence must be a non-negative integer.\")\n",
    "else:\n",
    "    fibonacci_sequence = generate_fibonacci(n)\n",
    "    print(f\"The Fibonacci sequence of length {n} is: {fibonacci_sequence}\")"
   ]
  },
  {
   "cell_type": "code",
   "execution_count": 16,
   "metadata": {},
   "outputs": [
    {
     "name": "stdout",
     "output_type": "stream",
     "text": [
      "5 is a prime number.\n"
     ]
    }
   ],
   "source": [
    "# Function to check if a number is prime\n",
    "def is_prime(number):\n",
    "    if number <= 1:\n",
    "        return False\n",
    "    elif number == 2:\n",
    "        return True\n",
    "    elif number % 2 == 0:\n",
    "        return False\n",
    "    else:\n",
    "        # Check divisibility starting from 3 up to the square root of the number\n",
    "        for i in range(3, int(number**0.5) + 1, 2):\n",
    "            if number % i == 0:\n",
    "                return False\n",
    "        return True\n",
    "\n",
    "# Example usage\n",
    "number = int(input(\"Enter a number: \"))\n",
    "\n",
    "if is_prime(number):\n",
    "    print(f\"{number} is a prime number.\")\n",
    "else:\n",
    "    print(f\"{number} is not a prime number.\")"
   ]
  },
  {
   "cell_type": "code",
   "execution_count": 17,
   "metadata": {},
   "outputs": [
    {
     "name": "stdout",
     "output_type": "stream",
     "text": [
      "Multiplication table of 2:\n",
      "2 * 1 = 2\n",
      "2 * 2 = 4\n",
      "2 * 3 = 6\n",
      "2 * 4 = 8\n",
      "2 * 5 = 10\n",
      "2 * 6 = 12\n",
      "2 * 7 = 14\n",
      "2 * 8 = 16\n",
      "2 * 9 = 18\n",
      "2 * 10 = 20\n"
     ]
    }
   ],
   "source": [
    "# Function to print the multiplication table of a given number\n",
    "def print_multiplication_table(number):\n",
    "    print(f\"Multiplication table of {number}:\")\n",
    "    for i in range(1, 11):\n",
    "        print(f\"{number} * {i} = {number * i}\")\n",
    "\n",
    "# Example usage\n",
    "number = int(input(\"Enter a number: \"))\n",
    "\n",
    "print_multiplication_table(number)\n"
   ]
  },
  {
   "cell_type": "code",
   "execution_count": 18,
   "metadata": {},
   "outputs": [
    {
     "name": "stdout",
     "output_type": "stream",
     "text": [
      "The sum of all even numbers between 1 and 2 is: 2\n"
     ]
    }
   ],
   "source": [
    "# Function to find the sum of all even numbers between 1 and n\n",
    "def sum_of_evens(n):\n",
    "    sum_even = 0\n",
    "    for i in range(2, n + 1, 2):\n",
    "        sum_even += i\n",
    "    return sum_even\n",
    "\n",
    "# Example usage\n",
    "n = int(input(\"Enter a number: \"))\n",
    "\n",
    "if n < 2:\n",
    "    print(\"Please enter a number greater than or equal to 2.\")\n",
    "else:\n",
    "    result = sum_of_evens(n)\n",
    "    print(f\"The sum of all even numbers between 1 and {n} is: {result}\")"
   ]
  },
  {
   "cell_type": "code",
   "execution_count": 19,
   "metadata": {},
   "outputs": [
    {
     "name": "stdout",
     "output_type": "stream",
     "text": [
      "The reverse of 5 is: 5\n"
     ]
    }
   ],
   "source": [
    "# Function to reverse a given number\n",
    "def reverse_number(number):\n",
    "    reversed_num = 0\n",
    "    while number != 0:\n",
    "        digit = number % 10\n",
    "        reversed_num = (reversed_num * 10) + digit\n",
    "        number //= 10\n",
    "    return reversed_num\n",
    "\n",
    "# Example usage\n",
    "number = int(input(\"Enter a number: \"))\n",
    "\n",
    "reversed_number = reverse_number(number)\n",
    "print(f\"The reverse of {number} is: {reversed_number}\")"
   ]
  },
  {
   "cell_type": "code",
   "execution_count": 20,
   "metadata": {},
   "outputs": [
    {
     "name": "stdout",
     "output_type": "stream",
     "text": [
      "3 is a palindrome.\n"
     ]
    }
   ],
   "source": [
    "# Function to check if a string is a palindrome\n",
    "def is_palindrome(s):\n",
    "    # Remove spaces and convert to lowercase for case-insensitive comparison\n",
    "    s = s.replace(\" \", \"\").lower()\n",
    "    # Check if the string is equal to its reverse\n",
    "    return s == s[::-1]\n",
    "\n",
    "# Example usage\n",
    "string = input(\"Enter a string: \")\n",
    "\n",
    "if is_palindrome(string):\n",
    "    print(f\"{string} is a palindrome.\")\n",
    "else:\n",
    "    print(f\"{string} is not a palindrome.\")"
   ]
  },
  {
   "cell_type": "code",
   "execution_count": 21,
   "metadata": {},
   "outputs": [
    {
     "name": "stdout",
     "output_type": "stream",
     "text": [
      "Too high\n",
      "Too high\n",
      "Too high\n",
      "Correct!\n"
     ]
    }
   ],
   "source": [
    "import random\n",
    "\n",
    "# Generate a random number between 1 and 100\n",
    "secret_number = random.randint(1, 100)\n",
    "\n",
    "# Function to check the user's guess\n",
    "def check_guess(guess, secret):\n",
    "    if guess < secret:\n",
    "        return \"Too low\"\n",
    "    elif guess > secret:\n",
    "        return \"Too high\"\n",
    "    else:\n",
    "        return \"Correct!\"\n",
    "\n",
    "# Main game loop\n",
    "while True:\n",
    "    # Prompt the user to guess the number\n",
    "    guess = int(input(\"Guess the number (between 1 and 100): \"))\n",
    "\n",
    "    # Check if the guess is correct\n",
    "    result = check_guess(guess, secret_number)\n",
    "\n",
    "    # Print the result\n",
    "    print(result)\n",
    "\n",
    "    # Break the loop if the guess is correct\n",
    "    if result == \"Correct!\":\n",
    "        break"
   ]
  }
 ],
 "metadata": {
  "kernelspec": {
   "display_name": "Python 3",
   "language": "python",
   "name": "python3"
  },
  "language_info": {
   "codemirror_mode": {
    "name": "ipython",
    "version": 3
   },
   "file_extension": ".py",
   "mimetype": "text/x-python",
   "name": "python",
   "nbconvert_exporter": "python",
   "pygments_lexer": "ipython3",
   "version": "3.10.8"
  }
 },
 "nbformat": 4,
 "nbformat_minor": 2
}
